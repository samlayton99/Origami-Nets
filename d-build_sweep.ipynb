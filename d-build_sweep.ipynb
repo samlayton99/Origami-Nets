{
 "cells": [
  {
   "cell_type": "code",
   "execution_count": 1,
   "metadata": {},
   "outputs": [],
   "source": [
    "# Class dependencies\n",
    "from pprint import pprint\n",
    "import numpy as np\n",
    "from matplotlib import pyplot as plt\n",
    "import pandas as pd\n",
    "import torch\n",
    "from models.folds import Fold, SoftFold\n",
    "from models.model_bank import DynamicOrigami, Softmax\n",
    "from models.training import train, NoamScheduler, load_data, plot_model\n",
    "from torch.utils.data import Dataset, DataLoader\n",
    "from sklearn.model_selection import train_test_split\n",
    "from sklearn.datasets import load_digits\n",
    "from tqdm import tqdm"
   ]
  },
  {
   "cell_type": "code",
   "execution_count": 2,
   "metadata": {},
   "outputs": [],
   "source": [
    "# import small digits dataset\n",
    "digits = load_digits()\n",
    "X = digits.data\n",
    "y = digits.target\n",
    "\n",
    "# split the data\n",
    "X_train, X_test, y_train, y_test = train_test_split(X, y, test_size=0.2)\n",
    "X_train, X_val, y_train, y_val = train_test_split(X_train, y_train, test_size=0.2)\n",
    "\n",
    "# set up the model\n",
    "# model = OrigamiNetwork(layers=1, epochs=300, optimizer='sgd',learning_rate=0.001, sigmoid=True, crease=5)\n",
    "# model.fit(X_train, y_train, X_val, y_val)\n",
    "\n",
    "# # get the predictions\n",
    "# y_hat = model.predict(X_test)\n",
    "# print(accuracy_score(y_test, y_hat))"
   ]
  },
  {
   "cell_type": "code",
   "execution_count": null,
   "metadata": {},
   "outputs": [
    {
     "name": "stderr",
     "output_type": "stream",
     "text": [
      "Linearly Increasing:  43%|████▎     | 288/672 [00:00<00:00, 24017.01it/s]\n"
     ]
    }
   ],
   "source": [
    "import itertools\n",
    "import random\n",
    "architectures = {}\n",
    "n = 1\n",
    "layer_type = ['SoftFold', 'Fold']\n",
    "hs = [False, True]\n",
    "depths = [1, 4, 7, 10]\n",
    "\n",
    "\n",
    "lrs = [1e-2, 1e-3, 1e-4]\n",
    "leak = 0.1\n",
    "repeat = 3\n",
    "rates = [0.1]\n",
    "alernate_rates = [1, 0.5]\n",
    "combinations = list(itertools.product(depths, layer_type, rates, lrs))\n",
    "progress = tqdm(total=672, desc=\"Linearly Increasing\")\n",
    "precision = 6\n",
    "architectures[\"Control\"] = {\"string\": \"\", \n",
    "                            \"structure\": [],\n",
    "                            \"learning_rate\": 1e-3,\n",
    "                            \"repeat\": 3}\n",
    "\n",
    "for i, comb in enumerate(combinations):\n",
    "    depth, layer, rate, lr = comb\n",
    "    h = hs[random.randint(0, 1)]\n",
    "    \n",
    "    details = f\"_{layer}_depth_{depth}_rate_{rate}_stretch_{int(h)}_lr{lr}\"\n",
    "    name_list = [name + details for name in [\"Increasing\", \"Plateau\", \"Flat\"]]\n",
    "    \n",
    "    width_list = []\n",
    "    width_list.append([round(n*(1+rate)**i, precision) for i in range(1, depth+1)])\n",
    "    width_list.append([round(n*(1+rate), precision)]*depth)\n",
    "    width_list.append([round(n, precision)]*depth)\n",
    "    \n",
    "    linear_layers_list = []\n",
    "    linear_layers_list.append([layer, \"Linear\"] * (depth//2 + 1))\n",
    "    # linear_layers_list.append([layer, layer, \"Linear\", \"Linear\"] * (depth//4 + 1))\n",
    "    # linear_layers_list.append([\"Linear\", \"Linear\", layer, layer] * (depth//4 + 1))\n",
    "    # linear_layers_list.append([\"Linear\", \"Linear\", \"Linear\", layer, layer, layer] * (depth//6 + 1))\n",
    "    linear_layers_list.append([layer, layer, layer, \"Linear\", \"Linear\", \"Linear\"] * (depth//6 + 1))\n",
    "    \n",
    "    # only folds\n",
    "    for name, widths in zip(name_list, width_list):\n",
    "        if name == name_list[0] and depth > 6 and rate > 0.1:\n",
    "            continue\n",
    "        structure = [{'type': layer, 'params': {'width':width, 'has_stretch': h}} for width in widths]\n",
    "        if structure not in [arch[\"structure\"] for arch in architectures.values()]:\n",
    "            architectures[name] = {\"string\": [layer]*depth, \n",
    "                                   \"structure\": structure,\n",
    "                                   \"learning_rate\": lr,\n",
    "                                   \"repeat\": repeat}\n",
    "            if layer == \"Fold\":\n",
    "                architectures[name].update({\"leak\": leak})\n",
    "    \n",
    "    # linear networks\n",
    "    for alternate in alernate_rates:\n",
    "        for name, widths in zip(name_list, width_list):\n",
    "            if name == name_list[0] and depth > 6 and rate > 0.1:\n",
    "                continue\n",
    "            for i, layer in enumerate(linear_layers_list):\n",
    "                layer = layer[:depth]\n",
    "                params = []\n",
    "                prev_layer, prev_width = None, 1\n",
    "                for format, width in zip(layer, widths):\n",
    "                    if format == \"Linear\":\n",
    "                        win = prev_width if prev_layer != \"Linear\" else width\n",
    "                        params.append({'in_features': win, 'out_features': round(alternate * width, precision)})\n",
    "                    else:\n",
    "                        params.append({'width':width, 'has_stretch': h})\n",
    "                    prev_layer, prev_width = format, width\n",
    "                layer_params = [{'type': form, 'params': param} for form, param in zip(layer, params)]\n",
    "                if layer_params not in [arch[\"structure\"] for arch in architectures.values()]:\n",
    "                    architectures[\"Linear_\"+name+f\"_alternate_{alternate}_{i}\"] = {\"string\": layer, \n",
    "                                                                                   \"structure\": layer_params,\n",
    "                                                                                   \"learning_rate\": lr,\n",
    "                                                                                   \"repeat\": repeat}\n",
    "                    if layer == \"Fold\":\n",
    "                        architectures[name].update({\"leak\": leak})\n",
    "                progress.update(1)\n",
    "progress.close()"
   ]
  },
  {
   "cell_type": "code",
   "execution_count": 6,
   "metadata": {},
   "outputs": [
    {
     "data": {
      "text/plain": [
       "174"
      ]
     },
     "execution_count": 6,
     "metadata": {},
     "output_type": "execute_result"
    }
   ],
   "source": [
    "len(architectures)"
   ]
  },
  {
   "cell_type": "code",
   "execution_count": 9,
   "metadata": {},
   "outputs": [],
   "source": [
    "# save architectures to json\n",
    "import json\n",
    "with open(\"BenchmarkTests/architectures.json\", \"w\") as file:\n",
    "    json.dump(architectures, file)"
   ]
  },
  {
   "cell_type": "code",
   "execution_count": 16,
   "metadata": {},
   "outputs": [
    {
     "data": {
      "text/plain": [
       "'Increasing_SoftFold_depth_1_rate_0.1_stretch_0_lr0.01'"
      ]
     },
     "execution_count": 16,
     "metadata": {},
     "output_type": "execute_result"
    }
   ],
   "source": [
    "list(architectures.keys())[1]"
   ]
  },
  {
   "cell_type": "code",
   "execution_count": 19,
   "metadata": {},
   "outputs": [
    {
     "name": "stdout",
     "output_type": "stream",
     "text": [
      "174\n",
      "Querying: Increasing_SoftFold_depth_1_rate_0.1_stretch_0_lr0.01 \n",
      "\n",
      "{'learning_rate': 0.01,\n",
      " 'repeat': 3,\n",
      " 'string': ['SoftFold'],\n",
      " 'structure': [{'params': {'has_stretch': False, 'width': 1.1},\n",
      "                'type': 'SoftFold'}]}\n"
     ]
    }
   ],
   "source": [
    "query = {\"Linear\":False,\n",
    "         \"growth\": \"Increasing\",\n",
    "         \"fold\": \"SoftFold\",\n",
    "         \"depth\": 1,\n",
    "         \"rate\": 0.1,\n",
    "         \"stretch\": 0, # not used\n",
    "         \"alternate\": 1, # not used\n",
    "         \"pattern\": 0,\n",
    "         \"lr\": 1e-2}\n",
    "key1 = \"Linear_\" if query[\"Linear\"] else \"\"\n",
    "key1 += f\"{query['growth']}_{query['fold']}_depth_{query['depth']}_rate_{query['rate']}\"\n",
    "key2 = key1\n",
    "key1 += f\"_stretch_0_lr{query['lr']}\"\n",
    "key2 += f\"_stretch_1_lr{query['lr']}\"\n",
    "# key1 += f\"\" if query[\"Linear\"] else \"\"\n",
    "# key2 += f\"_lr{query['lr']}\" if query[\"Linear\"] else \"\"\n",
    "\n",
    "print(len(architectures))\n",
    "try:\n",
    "    key = key1 if key1 in architectures else key2\n",
    "    print(\"Querying:\", key, \"\\n\")\n",
    "    pprint(architectures[key])\n",
    "except KeyError:\n",
    "    print(f\"Key not found: {key}\")\n",
    "    print(\"Available query values:\")\n",
    "    print(\"\\tLinear: [True, False]\")\n",
    "    print(\"\\tgrowth: ['Increasing', 'Plateau', 'Flat']\")\n",
    "    print(f\"\\tfold: {layer_type}\")\n",
    "    print(f\"\\tdepth: {depths}\")\n",
    "    print(f\"\\trate: {rates}\")\n",
    "    print(f\"\\tstretch: {[int(h) for h in hs]}\")\n",
    "    print(f\"\\talternate:\", alernate_rates)\n",
    "    print(f\"\\tpattern: [0, 1, 2, 3, 4]\")\n",
    "    print(f\"\\tlr: {lrs}\")\n",
    "    \n",
    "# for key in architectures.keys():\n",
    "#     print(key)"
   ]
  },
  {
   "cell_type": "code",
   "execution_count": 155,
   "metadata": {},
   "outputs": [
    {
     "name": "stdout",
     "output_type": "stream",
     "text": [
      "Linear_Flat_SoftFold_depth_8_rate_0.2_stretch_1_alternate_1_0\n",
      "Linear_Flat_SoftFold_depth_8_rate_0.2_stretch_1_alternate_1_1\n",
      "Linear_Flat_SoftFold_depth_8_rate_0.2_stretch_1_alternate_1_2\n",
      "Linear_Flat_SoftFold_depth_8_rate_0.2_stretch_1_alternate_0.5_0\n",
      "Linear_Flat_SoftFold_depth_8_rate_0.2_stretch_1_alternate_0.5_1\n",
      "Linear_Flat_SoftFold_depth_8_rate_0.2_stretch_1_alternate_0.5_2\n",
      "Linear_Flat_SoftFold_depth_14_rate_0.2_stretch_0_alternate_1_0\n",
      "Linear_Flat_SoftFold_depth_14_rate_0.2_stretch_0_alternate_1_1\n",
      "Linear_Flat_SoftFold_depth_14_rate_0.2_stretch_0_alternate_1_2\n",
      "Linear_Flat_SoftFold_depth_14_rate_0.2_stretch_0_alternate_0.5_0\n",
      "Linear_Flat_SoftFold_depth_14_rate_0.2_stretch_0_alternate_0.5_1\n",
      "Linear_Flat_SoftFold_depth_14_rate_0.2_stretch_0_alternate_0.5_2\n",
      "Found 12 architectures\n"
     ]
    }
   ],
   "source": [
    "filter_list = [\"Linear\", \"SoftFold\", \"Flat\", \"rate_0.2\"]\n",
    "count = 0\n",
    "for key in architectures.keys():\n",
    "    if all([filt in key for filt in filter_list]):\n",
    "        print(key)\n",
    "        # pprint(architectures[key])\n",
    "        # print(\"\\n\")\n",
    "        count += 1\n",
    "plural = \"s\" if count != 1 else \"\"\n",
    "print(\"Found\", count, f\"architecture{plural}\")"
   ]
  },
  {
   "cell_type": "code",
   "execution_count": 3,
   "metadata": {},
   "outputs": [],
   "source": [
    "architecture = [{'type': 'SoftFold', 'params': {'width':64, 'has_stretch': False}},\n",
    "                {'type': 'SoftFold', 'params': {'width':70, 'has_stretch': False}},\n",
    "                {'type': 'SoftFold', 'params': {'width':80, 'has_stretch': False}},\n",
    "                {'type': 'SoftFold', 'params': {'width':90, 'has_stretch': False}},\n",
    "                {'type': 'SoftFold', 'params': {'width':100, 'has_stretch': False}}]\n",
    "\n",
    "architecture2 = [{'type': 'SoftFold', 'params': {'width':100, 'has_stretch': False}}]"
   ]
  },
  {
   "cell_type": "code",
   "execution_count": 4,
   "metadata": {},
   "outputs": [],
   "source": [
    "# Data generation\n",
    "train_loader = load_data(X_train, y_train, batch_size=32, shuffle=True)\n",
    "val_loader = load_data(X_val, y_val, batch_size=32, shuffle=True)\n",
    "test_loader = load_data(X_test, y_test, batch_size=32, shuffle=True)"
   ]
  },
  {
   "cell_type": "code",
   "execution_count": null,
   "metadata": {},
   "outputs": [],
   "source": [
    "model = DynamicOrigami(architecture,10)\n",
    "optimizer = torch.optim.Adam(model.parameters(), lr=.0001)\n",
    "train_losses, val_losses, train_accuracies, val_accuracies = train(model, optimizer, train_loader, val_loader, epochs=300)\n",
    "plot_model(train_losses, val_losses, train_accuracies, val_accuracies)\n",
    "print(\"final val_score:\", np.mean(val_accuracies[-10]))"
   ]
  }
 ],
 "metadata": {
  "kernelspec": {
   "display_name": "Python 3",
   "language": "python",
   "name": "python3"
  },
  "language_info": {
   "codemirror_mode": {
    "name": "ipython",
    "version": 3
   },
   "file_extension": ".py",
   "mimetype": "text/x-python",
   "name": "python",
   "nbconvert_exporter": "python",
   "pygments_lexer": "ipython3",
   "version": "3.11.5"
  }
 },
 "nbformat": 4,
 "nbformat_minor": 2
}
